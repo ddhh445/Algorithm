{
 "cells": [
  {
   "cell_type": "markdown",
   "metadata": {},
   "source": [
    "### 당장 좋은 것만 선택하는 그리디\n",
    "- 현재 상황에서 지금 당장 좋은 것만 고르는 방법\n",
    "- 문제 해결 위한 최소한의 아이디어 도출이 핵심\n",
    "- 특정 문제를 만났을 때 \"가장 좋아보이는 것만 선택해도 풀 수 있는지\" 봐야함\n",
    "- 문제에서 알게 모르게 기준(큰 순서 등)을 제시해줌\n"
   ]
  },
  {
   "cell_type": "markdown",
   "metadata": {},
   "source": [
    "#### 예제 3-1 거스름돈\n"
   ]
  },
  {
   "cell_type": "code",
   "execution_count": null,
   "metadata": {},
   "outputs": [],
   "source": [
    "def solution(money):\n",
    "    coins=[500,100,50,10]\n",
    "    for i in coins:\n",
    "        count+=n//coin\n",
    "        n %= coin #coin으로 나눈 나머지를 할당\n",
    "        \n",
    "        "
   ]
  },
  {
   "cell_type": "markdown",
   "metadata": {},
   "source": [
    "#### 큰수의 법칙"
   ]
  },
  {
   "cell_type": "code",
   "execution_count": 6,
   "metadata": {},
   "outputs": [
    {
     "name": "stdout",
     "output_type": "stream",
     "text": [
      "2021-08-02 11:49:11.328414\n"
     ]
    }
   ],
   "source": [
    "import datetime\n",
    "def start_time():\n",
    "    '''\n",
    "    현재 시간 출력해주는 함수\n",
    "    '''\n",
    "    print(datetime.datetime.now())\n",
    "start_time()"
   ]
  },
  {
   "cell_type": "code",
   "execution_count": 11,
   "metadata": {},
   "outputs": [],
   "source": [
    "\n",
    "def solution(inputs: list,N: int,M: int,K : int):\n",
    "    '''\n",
    "    N: 배열 길이\n",
    "    M: 더하는 횟수\n",
    "    K: 최대 더할 수 있는 횟수\n",
    "    '''\n",
    "    assert K <= M\n",
    "    assert len(inputs)==N\n",
    "    max_lst=[]\n",
    "    for i in range(2):\n",
    "        globals()['max'+str(i+1)]=inputs.pop(inputs.index(max(inputs)))\n",
    "        max_lst.append(globals()['max'+str(i+1)])\n",
    "    ans=0\n",
    "    \n",
    "    while True:\n",
    "        ans += max1*K\n",
    "        M -= K\n",
    "        if M <= 0:\n",
    "            ans -= (-M)*max1\n",
    "            break        \n",
    "        ans += max2\n",
    "        M -= 1\n",
    "        if M <= 0:\n",
    "            ans -= (-M)*max2\n",
    "            break  \n",
    "        \n",
    "    \n",
    "    return ans"
   ]
  },
  {
   "cell_type": "code",
   "execution_count": 12,
   "metadata": {},
   "outputs": [
    {
     "data": {
      "text/plain": [
       "46"
      ]
     },
     "execution_count": 12,
     "metadata": {},
     "output_type": "execute_result"
    }
   ],
   "source": [
    "solution([2,4,5,4,6],5,8,3)"
   ]
  },
  {
   "cell_type": "code",
   "execution_count": 22,
   "metadata": {},
   "outputs": [
    {
     "name": "stdout",
     "output_type": "stream",
     "text": [
      "2021-08-02 12:16:15.081976\n"
     ]
    }
   ],
   "source": [
    "#25분 소요\n",
    "start_time()"
   ]
  },
  {
   "cell_type": "markdown",
   "metadata": {},
   "source": [
    "\n",
    "알게 된 것 & 복습할 것\n",
    "\n",
    "- pop(x)는 x번째 index의 값을 pop한다\n",
    "- globals['어쩌구']를 이용하여 동적으로 변수할당이 가능하다"
   ]
  },
  {
   "cell_type": "markdown",
   "metadata": {},
   "source": [
    "#### 숫자 카드 게임"
   ]
  },
  {
   "cell_type": "code",
   "execution_count": 23,
   "metadata": {},
   "outputs": [
    {
     "name": "stdout",
     "output_type": "stream",
     "text": [
      "2021-08-02 12:20:57.583709\n"
     ]
    }
   ],
   "source": [
    "start_time()"
   ]
  },
  {
   "cell_type": "code",
   "execution_count": 34,
   "metadata": {},
   "outputs": [],
   "source": [
    "def solution(inputs: list,N: int,M: int):\n",
    "    '''\n",
    "    \n",
    "    - inputs 입력 예시: [[1,2],[2,3],[3,4]]\n",
    "    - N은 행의 개수\n",
    "    - M은 열의 개수\n",
    "    \n",
    "    '''\n",
    "    assert len(inputs)==N\n",
    "    idx=[]\n",
    "    for i in inputs:\n",
    "        min_num=min(i)\n",
    "        idx.append(min_num)\n",
    "    ans=max(idx)\n",
    "    return ans"
   ]
  },
  {
   "cell_type": "code",
   "execution_count": 35,
   "metadata": {},
   "outputs": [
    {
     "data": {
      "text/plain": [
       "2"
      ]
     },
     "execution_count": 35,
     "metadata": {},
     "output_type": "execute_result"
    }
   ],
   "source": [
    "solution([[3,1,2],[4,1,4],[2,2,2]],3,3)"
   ]
  },
  {
   "cell_type": "code",
   "execution_count": 37,
   "metadata": {},
   "outputs": [
    {
     "name": "stdout",
     "output_type": "stream",
     "text": [
      "2021-08-02 12:29:46.952890\n"
     ]
    }
   ],
   "source": [
    "## 9분 소요\n",
    "start_time()"
   ]
  },
  {
   "cell_type": "markdown",
   "metadata": {},
   "source": [
    "#### 1이 될 때까지"
   ]
  },
  {
   "cell_type": "code",
   "execution_count": 38,
   "metadata": {},
   "outputs": [
    {
     "name": "stdout",
     "output_type": "stream",
     "text": [
      "2021-08-02 12:43:28.261953\n"
     ]
    }
   ],
   "source": [
    "start_time()"
   ]
  },
  {
   "cell_type": "code",
   "execution_count": 51,
   "metadata": {},
   "outputs": [],
   "source": [
    "def solution(N: int, K : int):\n",
    "    '''\n",
    "    N: 수\n",
    "    K: 나누려는 수\n",
    "    '''\n",
    "    count=0\n",
    "    while N!=1:\n",
    "        if N % K ==0:\n",
    "            N = N// K\n",
    "            count+=1\n",
    "        else:\n",
    "            N -= 1\n",
    "            count+=1\n",
    "    \n",
    "    return count"
   ]
  },
  {
   "cell_type": "code",
   "execution_count": 52,
   "metadata": {},
   "outputs": [
    {
     "data": {
      "text/plain": [
       "2"
      ]
     },
     "execution_count": 52,
     "metadata": {},
     "output_type": "execute_result"
    }
   ],
   "source": [
    "solution(25,5)"
   ]
  },
  {
   "cell_type": "code",
   "execution_count": 54,
   "metadata": {},
   "outputs": [
    {
     "name": "stdout",
     "output_type": "stream",
     "text": [
      "2021-08-02 12:49:05.482815\n"
     ]
    }
   ],
   "source": [
    "### 5분소요\n",
    "start_time()"
   ]
  },
  {
   "cell_type": "markdown",
   "metadata": {},
   "source": [
    "알게 된 것 & 복습할 것\n",
    "\n",
    "- // 는 몫을, %는 나머지를.\n",
    "- while True\n"
   ]
  },
  {
   "cell_type": "code",
   "execution_count": null,
   "metadata": {},
   "outputs": [],
   "source": []
  }
 ],
 "metadata": {
  "kernelspec": {
   "display_name": "Python 3",
   "language": "python",
   "name": "python3"
  },
  "language_info": {
   "codemirror_mode": {
    "name": "ipython",
    "version": 3
   },
   "file_extension": ".py",
   "mimetype": "text/x-python",
   "name": "python",
   "nbconvert_exporter": "python",
   "pygments_lexer": "ipython3",
   "version": "3.7.6"
  }
 },
 "nbformat": 4,
 "nbformat_minor": 4
}
