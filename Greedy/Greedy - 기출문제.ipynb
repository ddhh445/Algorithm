{
 "cells": [
  {
   "cell_type": "code",
   "execution_count": 1,
   "metadata": {},
   "outputs": [],
   "source": [
    "import datetime\n",
    "def start_time():\n",
    "    '''\n",
    "    현재 시간 출력해주는 함수\n",
    "    '''\n",
    "    print(datetime.datetime.now())"
   ]
  },
  {
   "cell_type": "markdown",
   "metadata": {},
   "source": [
    "### 01. 모험가 길드\n"
   ]
  },
  {
   "cell_type": "code",
   "execution_count": 2,
   "metadata": {},
   "outputs": [
    {
     "name": "stdout",
     "output_type": "stream",
     "text": [
      "2021-08-02 12:52:27.865778\n"
     ]
    }
   ],
   "source": [
    "start_time()"
   ]
  },
  {
   "cell_type": "code",
   "execution_count": 23,
   "metadata": {},
   "outputs": [],
   "source": [
    "def solution(inputs: list, N : int)->int:\n",
    "    '''\n",
    "    inputs: 모험가들의 공포도\n",
    "    N: 모험가 수\n",
    "    - 주의사항\n",
    "        - 모험가 몇을 빼도 됨\n",
    "        - 공포도 X인 사람은 X명 이상\n",
    "        - max 공포도는 사람 수임\n",
    "    \n",
    "    '''\n",
    "    assert len(inputs)==N\n",
    "    temp=sorted(inputs)\n",
    "    count=0\n",
    "    while True:\n",
    "        \n",
    "        temp2=temp[:temp[0]]\n",
    "        if max(temp2)>temp[0]:\n",
    "            break\n",
    "        if max(temp2)>len(temp2):\n",
    "            break\n",
    "        count+=1\n",
    "        temp=temp[temp[0]:]\n",
    "        \n",
    "        if len(temp)==0:\n",
    "            break\n",
    "    return count"
   ]
  },
  {
   "cell_type": "code",
   "execution_count": 24,
   "metadata": {
    "scrolled": true
   },
   "outputs": [
    {
     "data": {
      "text/plain": [
       "2"
      ]
     },
     "execution_count": 24,
     "metadata": {},
     "output_type": "execute_result"
    }
   ],
   "source": [
    "solution([2,3,1,2,2],5)"
   ]
  },
  {
   "cell_type": "code",
   "execution_count": 26,
   "metadata": {},
   "outputs": [
    {
     "data": {
      "text/plain": [
       "5"
      ]
     },
     "execution_count": 26,
     "metadata": {},
     "output_type": "execute_result"
    }
   ],
   "source": [
    "solution([1,1,1,1,1],5)"
   ]
  },
  {
   "cell_type": "code",
   "execution_count": 28,
   "metadata": {},
   "outputs": [
    {
     "name": "stdout",
     "output_type": "stream",
     "text": [
      "2021-08-02 13:21:04.005682\n"
     ]
    }
   ],
   "source": [
    "#28분 소요\n",
    "start_time()"
   ]
  },
  {
   "cell_type": "markdown",
   "metadata": {},
   "source": [
    "알게 된 것 & 복습할 것\n",
    "- sort는 유용하다,,\n",
    "- 아니 이거근데 걍 무슨 레이튼 푸는거 같네\n"
   ]
  },
  {
   "cell_type": "markdown",
   "metadata": {},
   "source": [
    "### 02. 곱하기 혹은 더하기"
   ]
  },
  {
   "cell_type": "code",
   "execution_count": 42,
   "metadata": {},
   "outputs": [],
   "source": [
    "def solution(S: str)->int:\n",
    "    '''\n",
    "    S: 숫자로 된 문자열\n",
    "    - 왼쪽에서 부터 차례로 곱하기 or 더하기\n",
    "    '''\n",
    "    current_value=0\n",
    "    for i in range(len(S)):\n",
    "        if current_value==0:\n",
    "            current_value=current_value + int(S[i])\n",
    "            continue\n",
    "        if (S[i]!='0') & (S[i] != '1'):\n",
    "            current_value *= int(S[i])\n",
    "        else:\n",
    "            current_value += int(S[i])\n",
    "    return current_value"
   ]
  },
  {
   "cell_type": "code",
   "execution_count": 44,
   "metadata": {},
   "outputs": [
    {
     "data": {
      "text/plain": [
       "5"
      ]
     },
     "execution_count": 44,
     "metadata": {},
     "output_type": "execute_result"
    }
   ],
   "source": [
    "solution('11111')"
   ]
  },
  {
   "cell_type": "code",
   "execution_count": 45,
   "metadata": {},
   "outputs": [
    {
     "data": {
      "text/plain": [
       "210"
      ]
     },
     "execution_count": 45,
     "metadata": {},
     "output_type": "execute_result"
    }
   ],
   "source": [
    "solution('567')"
   ]
  },
  {
   "cell_type": "code",
   "execution_count": 47,
   "metadata": {},
   "outputs": [
    {
     "name": "stdout",
     "output_type": "stream",
     "text": [
      "2021-08-02 13:35:15.013771\n"
     ]
    }
   ],
   "source": [
    "#14분 소요\n",
    "start_time()"
   ]
  },
  {
   "cell_type": "markdown",
   "metadata": {},
   "source": [
    "#### 03. 문자열 뒤집기\n",
    "- https://www.acmicpc.net/problem/1439\n"
   ]
  },
  {
   "cell_type": "code",
   "execution_count": 48,
   "metadata": {},
   "outputs": [
    {
     "name": "stdout",
     "output_type": "stream",
     "text": [
      "2021-08-02 13:44:55.707623\n"
     ]
    }
   ],
   "source": [
    "start_time()"
   ]
  },
  {
   "cell_type": "code",
   "execution_count": 57,
   "metadata": {},
   "outputs": [],
   "source": [
    "def solution(S: str)-> int:\n",
    "    '''\n",
    "    S: 0,1로만 이루어진 문자열\n",
    "    - 특정 구간 뒤집어서 같게 만들기\n",
    "    '''\n",
    "    min_num=min(len([i for i in S.split('0') if len(i)>0]),\n",
    "                len([i for i in S.split('1') if len(i)>0]))\n",
    "    return min_num"
   ]
  },
  {
   "cell_type": "code",
   "execution_count": 73,
   "metadata": {},
   "outputs": [],
   "source": [
    "#5분소요"
   ]
  },
  {
   "cell_type": "code",
   "execution_count": 60,
   "metadata": {},
   "outputs": [
    {
     "data": {
      "text/plain": [
       "1"
      ]
     },
     "execution_count": 60,
     "metadata": {},
     "output_type": "execute_result"
    }
   ],
   "source": [
    "solution('1000001')"
   ]
  },
  {
   "cell_type": "code",
   "execution_count": 74,
   "metadata": {},
   "outputs": [
    {
     "name": "stdout",
     "output_type": "stream",
     "text": [
      "0001\n",
      "1\n"
     ]
    }
   ],
   "source": [
    "#백준 제출용\n",
    "S=str(input())\n",
    "min_num=min(len([i for i in S.split('0') if len(i)>0]),\n",
    "                len([i for i in S.split('1') if len(i)>0]))\n",
    "print(min_num)"
   ]
  },
  {
   "cell_type": "markdown",
   "metadata": {},
   "source": [
    "#### 만들 수 없는 금액"
   ]
  },
  {
   "cell_type": "code",
   "execution_count": 75,
   "metadata": {},
   "outputs": [
    {
     "name": "stdout",
     "output_type": "stream",
     "text": [
      "2021-08-02 14:00:22.037353\n"
     ]
    }
   ],
   "source": [
    "start_time()"
   ]
  },
  {
   "cell_type": "code",
   "execution_count": 81,
   "metadata": {},
   "outputs": [],
   "source": [
    "def solution(N: int, inputs : list)->int:\n",
    "    '''\n",
    "    - N: 동전 개수\n",
    "    - inputs: 동전 단위\n",
    "    '''\n",
    "    max_num=sum(inputs)\n",
    "    lst=sorted(inputs)\n",
    "    target=1\n",
    "    for x in lst:\n",
    "        if target<x:\n",
    "            break\n",
    "        target += x\n",
    "    return target\n",
    "            \n"
   ]
  },
  {
   "cell_type": "code",
   "execution_count": 82,
   "metadata": {},
   "outputs": [
    {
     "data": {
      "text/plain": [
       "8"
      ]
     },
     "execution_count": 82,
     "metadata": {},
     "output_type": "execute_result"
    }
   ],
   "source": [
    "solution(5,[3,2,1,1,9])"
   ]
  },
  {
   "cell_type": "markdown",
   "metadata": {},
   "source": [
    "낮은 숫자부터 확인해 나가야한다는 것까지는 캐치 했는데,,,대체 2가 되는거 확인하고 3은 건너뜀?\n",
    "ㅡ ㅅ ㅡ"
   ]
  },
  {
   "cell_type": "code",
   "execution_count": 83,
   "metadata": {},
   "outputs": [
    {
     "name": "stdout",
     "output_type": "stream",
     "text": [
      "2021-08-02 15:05:53.852967\n"
     ]
    }
   ],
   "source": [
    "#1시간 도록 못풀었다 ^^\n",
    "start_time()"
   ]
  },
  {
   "cell_type": "markdown",
   "metadata": {},
   "source": [
    "#### 05. 볼링공 고르기"
   ]
  },
  {
   "cell_type": "code",
   "execution_count": 87,
   "metadata": {},
   "outputs": [],
   "source": [
    "def solution(N:int,M:int,inputs:list)->int:\n",
    "    '''\n",
    "    N : 볼링공 개수\n",
    "    M: 볼링공 무게 최대값\n",
    "    inputs: 각 무게\n",
    "    \n",
    "    '''\n",
    "    total=N*(N-1)/2\n",
    "    same=0\n",
    "    for i in range(M):    \n",
    "        count=inputs.count(i+1)\n",
    "        if count>=2:\n",
    "            same += count*(count-1)/2\n",
    "    answer=total-same\n",
    "    return answer"
   ]
  },
  {
   "cell_type": "code",
   "execution_count": 88,
   "metadata": {},
   "outputs": [
    {
     "data": {
      "text/plain": [
       "8.0"
      ]
     },
     "execution_count": 88,
     "metadata": {},
     "output_type": "execute_result"
    }
   ],
   "source": [
    "solution(5,3,[1,3,2,3,2])"
   ]
  },
  {
   "cell_type": "code",
   "execution_count": 89,
   "metadata": {},
   "outputs": [
    {
     "data": {
      "text/plain": [
       "25.0"
      ]
     },
     "execution_count": 89,
     "metadata": {},
     "output_type": "execute_result"
    }
   ],
   "source": [
    "solution(8,5,[1,5,4,3,2,4,5,2])"
   ]
  },
  {
   "cell_type": "markdown",
   "metadata": {},
   "source": [
    "#12분 소요\n",
    "start_time()\n",
    "\n",
    "- list.count(x) : x가 리스트 내에서 몇번 있는지"
   ]
  },
  {
   "cell_type": "markdown",
   "metadata": {},
   "source": [
    "#### 06. 무지의 먹방 라이브\n",
    "- https://programmers.co.kr/learn/courses/30/lessons/42891\n",
    "- 힙 큐 어쩌고;; 나중에 다시보기!\n",
    "\n"
   ]
  },
  {
   "cell_type": "code",
   "execution_count": 92,
   "metadata": {},
   "outputs": [
    {
     "ename": "TypeError",
     "evalue": "unsupported operand type(s) for -: 'list' and 'list'",
     "output_type": "error",
     "traceback": [
      "\u001b[1;31m---------------------------------------------------------------------------\u001b[0m",
      "\u001b[1;31mTypeError\u001b[0m                                 Traceback (most recent call last)",
      "\u001b[1;32m<ipython-input-92-f976b659c333>\u001b[0m in \u001b[0;36m<module>\u001b[1;34m\u001b[0m\n\u001b[1;32m----> 1\u001b[1;33m \u001b[1;33m[\u001b[0m\u001b[1;36m1\u001b[0m\u001b[1;33m,\u001b[0m\u001b[1;36m2\u001b[0m\u001b[1;33m,\u001b[0m\u001b[1;36m3\u001b[0m\u001b[1;33m]\u001b[0m\u001b[1;33m-\u001b[0m\u001b[1;33m[\u001b[0m\u001b[1;36m1\u001b[0m\u001b[1;33m]\u001b[0m\u001b[1;33m*\u001b[0m\u001b[1;36m3\u001b[0m\u001b[1;33m\u001b[0m\u001b[1;33m\u001b[0m\u001b[0m\n\u001b[0m",
      "\u001b[1;31mTypeError\u001b[0m: unsupported operand type(s) for -: 'list' and 'list'"
     ]
    }
   ],
   "source": [
    "def solution(food_times, k):\n",
    "    '''\n",
    "    k: 방송 장애 시간\n",
    "    food_times: 각 음식 먹어야 하는 횟수\n",
    "    \n",
    "    '''\n",
    "    lst2=list(filter(lambda x: x>0,food_times))\n",
    "    while k>0:\n",
    "        lst2=list(filter(lambda x: x>0,food_times)) \n",
    "        num_minus=min(lst2)\n",
    "        food_times=[food_times[i]-num_minus for i in range(len(food_times))]\n",
    "        k -= num_minus * len(lst2)\n",
    "        \n",
    "    answer=((-k)+1) % 3        \n",
    "    #     lst2=list(filter(lambda x: x>0,food_times))  \n",
    "    #     num_minus=min(lst2)\n",
    "    #     if num_minus<k:\n",
    "    #         food_times=[food_times[i]-num_minus for i in range(len(food_times))]\n",
    "    #         k -= num_minus * len(food_times)\n",
    "    #     else:\n",
    "    #         food_times=[food_times[i]-num_minus for i in range(len(food_times))]\n",
    "    #         k -= num_minus*len(lst2)\n",
    "    #     if k<=0:\n",
    "    #             answer=(-k) % 3\n",
    "    # if k>0 & k<len(lst2):\n",
    "    #     answer=(k+1)\n",
    "    return answer"
   ]
  },
  {
   "cell_type": "code",
   "execution_count": null,
   "metadata": {},
   "outputs": [],
   "source": []
  }
 ],
 "metadata": {
  "kernelspec": {
   "display_name": "Python 3",
   "language": "python",
   "name": "python3"
  },
  "language_info": {
   "codemirror_mode": {
    "name": "ipython",
    "version": 3
   },
   "file_extension": ".py",
   "mimetype": "text/x-python",
   "name": "python",
   "nbconvert_exporter": "python",
   "pygments_lexer": "ipython3",
   "version": "3.7.6"
  }
 },
 "nbformat": 4,
 "nbformat_minor": 4
}
