{
 "cells": [
  {
   "cell_type": "markdown",
   "metadata": {},
   "source": [
    "# 음료수 얼려먹기(재도전)"
   ]
  },
  {
   "cell_type": "markdown",
   "metadata": {},
   "source": [
    "- DFS는 재귀적으로 사용하는게 포인트\n",
    "- 현재의 노드를 \"방문처리\"후 연쇄적으로 조건에 맞는 근처 노드를 방문처리. 이때 사용하는게 재귀적인 함수!\n"
   ]
  },
  {
   "cell_type": "code",
   "execution_count": 1,
   "metadata": {},
   "outputs": [],
   "source": [
    "inputs=['00110','00011','11111','00000']\n"
   ]
  },
  {
   "cell_type": "code",
   "execution_count": 2,
   "metadata": {},
   "outputs": [],
   "source": [
    "n=len(inputs)\n",
    "m=len(inputs[0])"
   ]
  },
  {
   "cell_type": "code",
   "execution_count": 68,
   "metadata": {},
   "outputs": [],
   "source": [
    "graph=[[] for _ in range(len(inputs))]\n",
    "for i in range(n):\n",
    "    for j in range(m):\n",
    "        graph[i].append([i+1,j+1,int(inputs[i][j])])"
   ]
  },
  {
   "cell_type": "code",
   "execution_count": 69,
   "metadata": {},
   "outputs": [
    {
     "data": {
      "text/plain": [
       "[[[1, 1, 0], [1, 2, 0], [1, 3, 1], [1, 4, 1], [1, 5, 0]],\n",
       " [[2, 1, 0], [2, 2, 0], [2, 3, 0], [2, 4, 1], [2, 5, 1]],\n",
       " [[3, 1, 1], [3, 2, 1], [3, 3, 1], [3, 4, 1], [3, 5, 1]],\n",
       " [[4, 1, 0], [4, 2, 0], [4, 3, 0], [4, 4, 0], [4, 5, 0]]]"
      ]
     },
     "execution_count": 69,
     "metadata": {},
     "output_type": "execute_result"
    }
   ],
   "source": [
    "graph"
   ]
  },
  {
   "cell_type": "code",
   "execution_count": 70,
   "metadata": {},
   "outputs": [
    {
     "data": {
      "text/plain": [
       "True"
      ]
     },
     "execution_count": 70,
     "metadata": {},
     "output_type": "execute_result"
    }
   ],
   "source": [
    "dfs(0,0)"
   ]
  },
  {
   "cell_type": "code",
   "execution_count": 71,
   "metadata": {},
   "outputs": [
    {
     "data": {
      "text/plain": [
       "[[[1, 1, 1], [1, 2, 1], [1, 3, 1], [1, 4, 1], [1, 5, 0]],\n",
       " [[2, 1, 1], [2, 2, 1], [2, 3, 1], [2, 4, 1], [2, 5, 1]],\n",
       " [[3, 1, 1], [3, 2, 1], [3, 3, 1], [3, 4, 1], [3, 5, 1]],\n",
       " [[4, 1, 0], [4, 2, 0], [4, 3, 0], [4, 4, 0], [4, 5, 0]]]"
      ]
     },
     "execution_count": 71,
     "metadata": {},
     "output_type": "execute_result"
    }
   ],
   "source": [
    "graph"
   ]
  },
  {
   "cell_type": "code",
   "execution_count": 72,
   "metadata": {},
   "outputs": [],
   "source": [
    "def dfs(x,y):\n",
    "    if x<0 or y<0 or x>=n or y>=m:\n",
    "        return False\n",
    "    if graph[x][y][2]==0:\n",
    "        graph[x][y][2]=1\n",
    "        dfs(x-1,y)\n",
    "        dfs(x+1,y)\n",
    "        dfs(x,y-1)\n",
    "        dfs(x,y+1)\n",
    "        return True\n",
    "    return False"
   ]
  },
  {
   "cell_type": "code",
   "execution_count": 73,
   "metadata": {},
   "outputs": [
    {
     "data": {
      "text/plain": [
       "2"
      ]
     },
     "execution_count": 73,
     "metadata": {},
     "output_type": "execute_result"
    }
   ],
   "source": [
    "count=0\n",
    "for i in range(n):\n",
    "    for j in range(m):\n",
    "        if dfs(i,j)==True:\n",
    "            count+=1\n",
    "count"
   ]
  },
  {
   "cell_type": "markdown",
   "metadata": {},
   "source": [
    "# 미로 탈출"
   ]
  },
  {
   "cell_type": "code",
   "execution_count": 86,
   "metadata": {},
   "outputs": [
    {
     "data": {
      "text/plain": [
       "True"
      ]
     },
     "execution_count": 86,
     "metadata": {},
     "output_type": "execute_result"
    }
   ],
   "source": [
    "inputs=['101010','111111','000001','111111','111111']\n",
    "from collections import deque\n",
    "q=deque()\n",
    "graph=[]\n",
    "for i in range(len(inputs)):\n",
    "    for j in range(len(inputs[0])):\n",
    "        graph.append([i,j,int(inputs[i][j])])\n",
    "\n",
    "def check(x,y):\n",
    "    if [x,y-1,1] in graph or [x-1,y,1] in graph or [x,y+1,1] in graph or [x+1,y,1] in graph:\n",
    "        return True\n",
    "    else:\n",
    "        return False\n",
    "\n",
    "q.append(graph[0])\n",
    "while len(q)>0:\n",
    "    "
   ]
  },
  {
   "cell_type": "markdown",
   "metadata": {},
   "source": [
    "# 특정 거리의 도시 찾기\n",
    "https://www.acmicpc.net/problem/18352\n"
   ]
  },
  {
   "cell_type": "code",
   "execution_count": null,
   "metadata": {},
   "outputs": [],
   "source": [
    "directions=[[1,2],[1,3],[2,3],[2,4]]\n",
    "N=4 #노드 수\n",
    "M=4 #방향 수\n",
    "K=2 # 거리\n",
    "X=1 #출발번호\n",
    "arrived=[[] for _ in range(N)]\n",
    "stack=[]\n",
    "def dfs(N,M,K,X):\n",
    "    \n",
    "    stack.append(X)\n",
    "    count=0\n",
    "    for lst in directions:\n",
    "        if lst[0]==X:\n",
    "            arrived[lst[1]].append(len(stack))\n",
    "            dfs(N,M,K,lst[1])\n",
    "            count+=1\n",
    "    if count==0:\n",
    "        stack=[]"
   ]
  }
 ],
 "metadata": {
  "kernelspec": {
   "display_name": "Python 3",
   "language": "python",
   "name": "python3"
  },
  "language_info": {
   "codemirror_mode": {
    "name": "ipython",
    "version": 3
   },
   "file_extension": ".py",
   "mimetype": "text/x-python",
   "name": "python",
   "nbconvert_exporter": "python",
   "pygments_lexer": "ipython3",
   "version": "3.7.6"
  }
 },
 "nbformat": 4,
 "nbformat_minor": 4
}
