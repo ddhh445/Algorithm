{
 "cells": [
  {
   "cell_type": "markdown",
   "metadata": {},
   "source": [
    "# DFS/BFS\n",
    "- 탐색이란 많은 양의 데이터 중에서 원하는 데이터를 찾는 과정\n",
    "- DFS/BFS가 대표적인데, 이를 알기 위해선 스택, 큐에 선행학습 필요\n",
    "- 오버플로: 데이터 크기 이상으로 넣을 때 발생\n",
    "- 언더플로: 아무것도 없는데 삭제하려 할 때\n",
    "- 스택: 후입 선출\n"
   ]
  },
  {
   "cell_type": "code",
   "execution_count": 2,
   "metadata": {},
   "outputs": [
    {
     "name": "stdout",
     "output_type": "stream",
     "text": [
      "[5, 5, 5]\n"
     ]
    }
   ],
   "source": [
    "#stack 예제\n",
    "stack=[]\n",
    "stack.append(5)\n",
    "stack.append(5)\n",
    "stack.append(5)\n",
    "stack.append(5)\n",
    "stack.pop()\n",
    "print(stack[::-1])# 최상단 원소(맨뒤)부터 출력"
   ]
  },
  {
   "cell_type": "code",
   "execution_count": 6,
   "metadata": {},
   "outputs": [
    {
     "name": "stdout",
     "output_type": "stream",
     "text": [
      "deque([6, 9])\n",
      "deque([9, 6])\n"
     ]
    }
   ],
   "source": [
    "#큐 예제\n",
    "#리스트보다 효율적으로 처리\n",
    "\n",
    "from collections import deque\n",
    "queue=deque()\n",
    "\n",
    "queue.append(5)\n",
    "queue.append(6)\n",
    "queue.append(9)\n",
    "queue.popleft()\n",
    "print(queue)\n",
    "queue.reverse()\n",
    "print(queue)\n"
   ]
  },
  {
   "cell_type": "code",
   "execution_count": 12,
   "metadata": {},
   "outputs": [
    {
     "data": {
      "text/plain": [
       "[9, 7, 5, 3, 1]"
      ]
     },
     "execution_count": 12,
     "metadata": {},
     "output_type": "execute_result"
    }
   ],
   "source": [
    "temp=list(range(10))\n",
    "temp[::2]\n",
    "temp[0:4:3]#a부터 b까지 c간격으로\n",
    "temp[::-1]#역순으로 1칸씩\n",
    "temp[::-2]"
   ]
  },
  {
   "cell_type": "markdown",
   "metadata": {},
   "source": [
    "- collections 모듈의 deque()\n",
    "- popleft해서 선입선출\n",
    "- reverse로 순서 바꾸기 가능\n",
    "- temp[0:4:3]#a부터 b까지 c간격으로\n"
   ]
  },
  {
   "cell_type": "markdown",
   "metadata": {},
   "source": [
    "# DFS\n",
    "- Depth-First Search(깊이 우선 탐색)\n",
    "- 그래프: 노드와 간선으로 이루어짐\n"
   ]
  },
  {
   "cell_type": "code",
   "execution_count": 13,
   "metadata": {},
   "outputs": [
    {
     "name": "stdout",
     "output_type": "stream",
     "text": [
      "[[0, 7, 5], [7, 0, 9999], [5, 9999, 0]]\n"
     ]
    }
   ],
   "source": [
    "#인접행렬로 그래프 연결 관계 표현하기\n",
    "INF=9999\n",
    "graph=[\n",
    "    [0,7,5],\n",
    "    [7,0,INF],\n",
    "    [5,INF,0]\n",
    "]\n",
    "print(graph)"
   ]
  },
  {
   "cell_type": "code",
   "execution_count": 14,
   "metadata": {},
   "outputs": [
    {
     "name": "stdout",
     "output_type": "stream",
     "text": [
      "[[(1, 7), (2, 5)], [(0, 5)], [(3, 7)]]\n"
     ]
    }
   ],
   "source": [
    "#인접리스트로 : 모든 노드에 연결된 정보를 차례로 연결 저장\n",
    "#\"연결 리스트\"라는 자료구조로 구현\n",
    "\n",
    "graph=[[] for _ in range(3)]\n",
    "graph[0].append((1,7))\n",
    "graph[0].append((2,5))\n",
    "graph[1].append((0,5))\n",
    "graph[2].append((3,7))\n",
    "print(graph)"
   ]
  },
  {
   "cell_type": "markdown",
   "metadata": {},
   "source": [
    "- 인접 행렬 방식은 모든 관계를 저장하므로 노드가 많을 수록 메모리가 낭비 됨\n",
    "- 인접리스트는 메모리 효율적이긴 한데 정보 얻기가 어려움\n",
    "- 특정한 노드와 연결된 모든 인접 노드를 순회해야하는 경우 인접 리스트가 낫다\n",
    "- DFS: 특정한 경로로 탐색하다가 특정한 상황에서 최대한 깊숙이 들어가서 노드 방문하고 다시 돌아가서 다른 경로로 탐색\n",
    "\n",
    "### 구체적인 동작\n",
    "방문처리: 스택에 한번 삽입되어 처리된 노드가 다시 삽입되지 않게 체크하는 것\n",
    "1. 탐색 시작 노드를 스택에 삽입하고 방문 처리를 한다\n",
    "2. 스택의 최상단 노드에 방문하지 않은 \"인접 노드\"가 있으면 그 인접 노드를 스택에 넣고 방문 처리를 한다.\n",
    "    - 방문하지 않은 인접 노드가 없으면 스택에서 최상단 노드를 꺼낸다.\n",
    "3. 2번의 과정 못할 때까지 반복\n"
   ]
  },
  {
   "cell_type": "code",
   "execution_count": 15,
   "metadata": {},
   "outputs": [],
   "source": [
    "#dfs 구현\n",
    "def dfs(graph,v,visited):\n",
    "    visited[v]=True\n",
    "    print(v,end=' ')\n",
    "    for i in graph[v]:\n",
    "        if not visited[i]:\n",
    "            dfs(graph,i,visited)"
   ]
  },
  {
   "cell_type": "markdown",
   "metadata": {},
   "source": [
    "# BFS \n",
    "- 너비 우선 탐색(가까운 노드부터 탐색)\n",
    "- 큐를 사용\n",
    "\n",
    "### 구체적인 동작\n",
    "- 탐색 시작 노드를 큐에 삽입하고 방문처리\n",
    "- 큐에서 노드를 꺼내 해당 노드의 인접 노드 중에서 방문하지 않은 노드를 모두 큐에 삽입하고 방문 처리\n",
    "- 2번 못할 때까지\n"
   ]
  },
  {
   "cell_type": "code",
   "execution_count": 16,
   "metadata": {},
   "outputs": [
    {
     "data": {
      "text/plain": [
       "deque([1])"
      ]
     },
     "execution_count": 16,
     "metadata": {},
     "output_type": "execute_result"
    }
   ],
   "source": [
    "deque([1])"
   ]
  },
  {
   "cell_type": "markdown",
   "metadata": {},
   "source": [
    "# 음료수 얼려먹깅"
   ]
  },
  {
   "cell_type": "code",
   "execution_count": 20,
   "metadata": {},
   "outputs": [],
   "source": [
    "inputs=['00110','00011','11111','00000']\n",
    "graph=[[] for _ in range(len(inputs))]\n",
    "for i in range(len(inputs)):\n",
    "    for j in range(len(inputs[i])):\n",
    "        graph[i].append((i+1,j+1,int(inputs[i][j])))        \n",
    "count=0\n",
    "stack=[]\n",
    "for me in graph:\n",
    "    "
   ]
  },
  {
   "cell_type": "code",
   "execution_count": 23,
   "metadata": {},
   "outputs": [
    {
     "data": {
      "text/plain": [
       "[(1, 1, 0),\n",
       " (1, 2, 0),\n",
       " (1, 3, 1),\n",
       " (1, 4, 1),\n",
       " (1, 5, 0),\n",
       " (2, 1, 0),\n",
       " (2, 2, 0),\n",
       " (2, 3, 0),\n",
       " (2, 4, 1),\n",
       " (2, 5, 1),\n",
       " (3, 1, 1),\n",
       " (3, 2, 1),\n",
       " (3, 3, 1),\n",
       " (3, 4, 1),\n",
       " (3, 5, 1),\n",
       " (4, 1, 0),\n",
       " (4, 2, 0),\n",
       " (4, 3, 0),\n",
       " (4, 4, 0),\n",
       " (4, 5, 0)]"
      ]
     },
     "execution_count": 23,
     "metadata": {},
     "output_type": "execute_result"
    }
   ],
   "source": [
    "inputs=['00110','00011','11111','00000']\n",
    "graph=[]\n",
    "for i in range(len(inputs)):\n",
    "    for j in range(len(inputs[i])):\n",
    "        graph.append([i+1,j+1,int(inputs[i][j]),False])\n",
    "from collections import deque\n",
    "for i,x,y,value,v in enumerate(graph):\n",
    "    q=deque()\n",
    "    graph[i][3]=True\n",
    "    if [x+1,y,0,False] in graph  or [x,y+1,0,False] in graph  or [x,y-1,0,False] in graph  or  [x-1,y1,0,False] in graph:\n",
    "        \n",
    "    \n",
    "    "
   ]
  },
  {
   "cell_type": "code",
   "execution_count": 26,
   "metadata": {},
   "outputs": [
    {
     "name": "stdout",
     "output_type": "stream",
     "text": [
      "3 3\n"
     ]
    }
   ],
   "source": [
    "n,m=map(int,input().split())"
   ]
  },
  {
   "cell_type": "code",
   "execution_count": 28,
   "metadata": {},
   "outputs": [
    {
     "name": "stdout",
     "output_type": "stream",
     "text": [
      "001\n",
      "010\n",
      "101\n"
     ]
    }
   ],
   "source": [
    "graph=[]\n",
    "for i in range(n):\n",
    "    graph.append(list(map(int,input())))"
   ]
  },
  {
   "cell_type": "code",
   "execution_count": 29,
   "metadata": {},
   "outputs": [
    {
     "data": {
      "text/plain": [
       "[[0, 0, 1], [0, 1, 0], [1, 0, 1]]"
      ]
     },
     "execution_count": 29,
     "metadata": {},
     "output_type": "execute_result"
    }
   ],
   "source": [
    "graph"
   ]
  },
  {
   "cell_type": "code",
   "execution_count": 30,
   "metadata": {},
   "outputs": [],
   "source": [
    "def dfs(x,y):\n",
    "    if x<=-1 or x>=n or y<= -1 or y>=m:\n",
    "        return False\n",
    "    #현재 노드를 방문 안했다면\n",
    "    if graph[x][y] ==0:\n",
    "        graph[x][y] =1\n",
    "        dfs(x-1,y)\n",
    "        dfs(x,y-1)\n",
    "        dfs(x+1,y)\n",
    "        dfs(x,y+1)\n",
    "    return False\n",
    "result=0 \n",
    "for i in range(n):\n",
    "    for j in range(m):\n",
    "        if dfs(i,j)==True:\n",
    "            result +=1\n",
    "print(result)"
   ]
  }
 ],
 "metadata": {
  "kernelspec": {
   "display_name": "Python 3",
   "language": "python",
   "name": "python3"
  },
  "language_info": {
   "codemirror_mode": {
    "name": "ipython",
    "version": 3
   },
   "file_extension": ".py",
   "mimetype": "text/x-python",
   "name": "python",
   "nbconvert_exporter": "python",
   "pygments_lexer": "ipython3",
   "version": "3.7.6"
  }
 },
 "nbformat": 4,
 "nbformat_minor": 4
}
