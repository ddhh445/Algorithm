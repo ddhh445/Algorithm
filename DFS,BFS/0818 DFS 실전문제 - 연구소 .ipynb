{
 "cells": [
  {
   "cell_type": "markdown",
   "metadata": {},
   "source": [
    "# 연구소\n",
    "https://www.acmicpc.net/problem/14502"
   ]
  },
  {
   "cell_type": "code",
   "execution_count": 48,
   "metadata": {
    "scrolled": true
   },
   "outputs": [
    {
     "name": "stdout",
     "output_type": "stream",
     "text": [
      "7 7\n",
      "2 0 0 0 1 1 0\n",
      "0 0 1 0 1 2 0\n",
      "0 1 1 0 1 0 0\n",
      "0 1 0 0 0 0 0\n",
      "0 0 0 0 0 1 1\n",
      "0 1 0 0 0 0 0\n",
      "0 1 0 0 0 0 0\n"
     ]
    }
   ],
   "source": [
    "N,M=map(int,input().split())\n",
    "data=[]\n",
    "temp=[[0]*M for _ in range(N)]\n",
    "for _ in range(N):\n",
    "    data.append(list(map(int,input().split())))"
   ]
  },
  {
   "cell_type": "code",
   "execution_count": 1,
   "metadata": {},
   "outputs": [],
   "source": [
    "data=[[2, 0, 0, 0, 1, 1, 0],\n",
    " [0, 0, 1, 0, 1, 2, 0],\n",
    " [0, 1, 1, 0, 1, 0, 0],\n",
    " [0, 1, 0, 0, 0, 0, 0],\n",
    " [0, 0, 0, 0, 0, 1, 1],\n",
    " [0, 1, 0, 0, 0, 0, 0],\n",
    " [0, 1, 0, 0, 0, 0, 0]]"
   ]
  },
  {
   "cell_type": "code",
   "execution_count": 2,
   "metadata": {},
   "outputs": [],
   "source": [
    "dx=[-1,0,1,0]\n",
    "dy=[0,1,0,-1]\n"
   ]
  },
  {
   "cell_type": "code",
   "execution_count": 3,
   "metadata": {},
   "outputs": [],
   "source": [
    "def dfs(datas,x,y):\n",
    "    '''\n",
    "    감염시키는 함수\n",
    "    '''\n",
    "    for i,j in zip(dx,dy):\n",
    "        nx=x+i\n",
    "        ny=y+j\n",
    "        if nx<0 or nx>=N or ny<0 or ny>=N:\n",
    "            continue\n",
    "            \n",
    "        if datas[nx][ny]==0:\n",
    "            datas[nx][ny]=2\n",
    "            dfs(datas,nx,ny)\n",
    "    "
   ]
  },
  {
   "cell_type": "code",
   "execution_count": 4,
   "metadata": {},
   "outputs": [],
   "source": [
    "def count(a):\n",
    "    '''\n",
    "    안전구역 개수 세는 함수\n",
    "    '''\n",
    "    counts=0\n",
    "    for lst in a:\n",
    "        for j in lst:\n",
    "            if j==0:\n",
    "                counts+=1\n",
    "    return counts"
   ]
  },
  {
   "cell_type": "code",
   "execution_count": 5,
   "metadata": {},
   "outputs": [],
   "source": [
    "from itertools import combinations"
   ]
  },
  {
   "cell_type": "code",
   "execution_count": 6,
   "metadata": {},
   "outputs": [],
   "source": [
    "def hubo(c):\n",
    "    '''\n",
    "    후보군 좌표 추출하는 함수\n",
    "    '''\n",
    "    coords=[]\n",
    "    for i in range(N):\n",
    "        for j in range(M):\n",
    "            if c[i][j]==0:\n",
    "                coords.append([i,j])\n",
    "    return coords"
   ]
  },
  {
   "cell_type": "markdown",
   "metadata": {},
   "source": [
    "https://blueshw.github.io/2016/01/20/shallow-copy-deep-copy/"
   ]
  },
  {
   "cell_type": "code",
   "execution_count": 7,
   "metadata": {},
   "outputs": [],
   "source": [
    "import copy\n",
    "def give_wall(k,tup: tuple)->list:\n",
    "    '''\n",
    "    벽 세워서 새로운 데이터 만드는 함수\n",
    "    - list(combinations(hubo(data),3))으로 1로 만들 좌표 넣어주기\n",
    "    '''\n",
    "    #여기서 copy()쓰면 안됨!\n",
    "    data2=copy.deepcopy(k)\n",
    "    for lst in tup:\n",
    "        data2[lst[0]][lst[1]]=1\n",
    "    return data2"
   ]
  },
  {
   "cell_type": "code",
   "execution_count": 8,
   "metadata": {},
   "outputs": [
    {
     "data": {
      "text/plain": [
       "35"
      ]
     },
     "execution_count": 8,
     "metadata": {},
     "output_type": "execute_result"
    }
   ],
   "source": [
    "count(data)"
   ]
  },
  {
   "cell_type": "code",
   "execution_count": 11,
   "metadata": {},
   "outputs": [],
   "source": [
    "def solution(data_1):\n",
    "    comb_lst=list(combinations(hubo(data_1),3))\n",
    "    results=[]\n",
    "    for comb in comb_lst:\n",
    "        df=give_wall(data_1,comb)\n",
    "        for i in range(N):\n",
    "            for j in range(M):\n",
    "                if df[i][j]==2:\n",
    "                    dfs(df,i,j)\n",
    "        results.append(count(df))\n",
    "    min_res=max(results)\n",
    "    return min_res           "
   ]
  },
  {
   "cell_type": "code",
   "execution_count": 22,
   "metadata": {},
   "outputs": [],
   "source": [
    "data=[[2, 0, 0, 0, 1, 1, 0],\n",
    " [0, 0, 1, 0, 1, 2, 0],\n",
    " [0, 1, 1, 0, 1, 0, 0],\n",
    " [0, 1, 0, 0, 0, 0, 0],\n",
    " [0, 0, 0, 0, 0, 1, 1],\n",
    " [0, 1, 0, 0, 0, 0, 0],\n",
    " [0, 1, 0, 0, 0, 0, 0]]"
   ]
  },
  {
   "cell_type": "code",
   "execution_count": 23,
   "metadata": {},
   "outputs": [],
   "source": [
    "N=7; M=7"
   ]
  },
  {
   "cell_type": "code",
   "execution_count": 24,
   "metadata": {
    "scrolled": true
   },
   "outputs": [
    {
     "name": "stdout",
     "output_type": "stream",
     "text": [
      "Wall time: 1.68 s\n"
     ]
    },
    {
     "data": {
      "text/plain": [
       "27"
      ]
     },
     "execution_count": 24,
     "metadata": {},
     "output_type": "execute_result"
    }
   ],
   "source": [
    "%%time\n",
    "solution(data)"
   ]
  },
  {
   "cell_type": "code",
   "execution_count": null,
   "metadata": {},
   "outputs": [],
   "source": [
    "N,M=map(int,input().split())\n",
    "data=[]\n",
    "temp=[[0]*M for _ in range(N)]\n",
    "for _ in range(N):\n",
    "    data.append(list(map(int,input().split())))"
   ]
  },
  {
   "cell_type": "code",
   "execution_count": 18,
   "metadata": {},
   "outputs": [],
   "source": [
    "N,M=4,6"
   ]
  },
  {
   "cell_type": "code",
   "execution_count": 19,
   "metadata": {},
   "outputs": [],
   "source": [
    "data=[[0, 0, 0, 0, 0, 0],\n",
    " [1, 0, 0, 0, 0, 2],\n",
    " [1, 1, 1, 0, 0, 2],\n",
    " [0, 0, 0, 0, 0, 2]]"
   ]
  },
  {
   "cell_type": "code",
   "execution_count": 20,
   "metadata": {},
   "outputs": [
    {
     "data": {
      "text/plain": [
       "14"
      ]
     },
     "execution_count": 20,
     "metadata": {},
     "output_type": "execute_result"
    }
   ],
   "source": [
    "solution(data)"
   ]
  },
  {
   "cell_type": "markdown",
   "metadata": {},
   "source": [
    "결국 시험코드 1만 성공하고 실패..\n",
    "알게 된 것들\n",
    "\n",
    "- copy()는 얕은 복사로, 리스트 \"안의 리스트\"같은 객체는 함께 변경된다. 따라서 아예 새로 바꿀려면 import copy 한다음 copy.deepcopy(list) 해야한다.\n",
    "- 함수 여러개 짤 때 전역 변수랑 지역 변수명 똑같이좀 하지마라 제발\n",
    "- 함수 안에서의 변수는 바깥의 변수에 영향을 주지 못한다.\n",
    "- 지역변수는 함수가 호출될 때 불러와지고 함수 끝나면 사라진다.\n",
    "- 사실 전역 지역 구분하는 것은 귀찮기 때문에, 함수 내에서 사용하는 인자는 \"data\" \"temp\"같은 인자를 사용하지 않도록 주의하자.\n",
    "- itertools 모듈의 combination을 잊지말자.\n",
    "- 거의 다 맞았지만 울타리 설치에도 DFS를 쓸줄은 몰랐다,,"
   ]
  }
 ],
 "metadata": {
  "kernelspec": {
   "display_name": "Python 3",
   "language": "python",
   "name": "python3"
  },
  "language_info": {
   "codemirror_mode": {
    "name": "ipython",
    "version": 3
   },
   "file_extension": ".py",
   "mimetype": "text/x-python",
   "name": "python",
   "nbconvert_exporter": "python",
   "pygments_lexer": "ipython3",
   "version": "3.7.6"
  }
 },
 "nbformat": 4,
 "nbformat_minor": 4
}
