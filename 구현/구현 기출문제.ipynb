{
 "cells": [
  {
   "cell_type": "markdown",
   "metadata": {},
   "source": [
    "### 럭키 스트레이트\n",
    "https://www.acmicpc.net/problem/18406\n"
   ]
  },
  {
   "cell_type": "code",
   "execution_count": 176,
   "metadata": {},
   "outputs": [],
   "source": [
    "import datetime\n",
    "def start_time():\n",
    "    '''\n",
    "    현재 시간 출력해주는 함수\n",
    "    '''\n",
    "    print(datetime.datetime.now())"
   ]
  },
  {
   "cell_type": "code",
   "execution_count": 2,
   "metadata": {},
   "outputs": [
    {
     "name": "stdout",
     "output_type": "stream",
     "text": [
      "2021-08-03 17:34:31.354743\n"
     ]
    }
   ],
   "source": [
    "start_time()"
   ]
  },
  {
   "cell_type": "code",
   "execution_count": 18,
   "metadata": {},
   "outputs": [],
   "source": [
    "def solution(N: int)->str:\n",
    "    '''\n",
    "    N: 짝수자리수 자연수\n",
    "    output : Ready or Lucky\n",
    "    '''\n",
    "    assert len(str(N)) % 2 ==0\n",
    "    length=len(str(N))/2\n",
    "    front=str(N)[:int(length)]\n",
    "    end=str(N)[int(length):]\n",
    "    front_lst=[int(i) for i in front]\n",
    "    end_lst=[int(i) for i in end]\n",
    "    if sum(front_lst)==sum(end_lst):\n",
    "        print('Lucky')\n",
    "    else:\n",
    "        print('Ready')\n",
    "        "
   ]
  },
  {
   "cell_type": "code",
   "execution_count": 19,
   "metadata": {},
   "outputs": [
    {
     "name": "stdout",
     "output_type": "stream",
     "text": [
      "Lucky\n"
     ]
    }
   ],
   "source": [
    "solution(123402)"
   ]
  },
  {
   "cell_type": "code",
   "execution_count": 20,
   "metadata": {},
   "outputs": [
    {
     "name": "stdout",
     "output_type": "stream",
     "text": [
      "Ready\n"
     ]
    }
   ],
   "source": [
    "solution(7555)"
   ]
  },
  {
   "cell_type": "code",
   "execution_count": 21,
   "metadata": {},
   "outputs": [
    {
     "ename": "AssertionError",
     "evalue": "",
     "output_type": "error",
     "traceback": [
      "\u001b[1;31m---------------------------------------------------------------------------\u001b[0m",
      "\u001b[1;31mAssertionError\u001b[0m                            Traceback (most recent call last)",
      "\u001b[1;32m<ipython-input-21-da9c56f58b0d>\u001b[0m in \u001b[0;36m<module>\u001b[1;34m\u001b[0m\n\u001b[1;32m----> 1\u001b[1;33m \u001b[0msolution\u001b[0m\u001b[1;33m(\u001b[0m\u001b[1;36m12345\u001b[0m\u001b[1;33m)\u001b[0m\u001b[1;33m\u001b[0m\u001b[1;33m\u001b[0m\u001b[0m\n\u001b[0m",
      "\u001b[1;32m<ipython-input-18-d79c909a7ce7>\u001b[0m in \u001b[0;36msolution\u001b[1;34m(N)\u001b[0m\n\u001b[0;32m      4\u001b[0m     \u001b[0moutput\u001b[0m \u001b[1;33m:\u001b[0m \u001b[0mReady\u001b[0m \u001b[1;32mor\u001b[0m \u001b[0mLucky\u001b[0m\u001b[1;33m\u001b[0m\u001b[1;33m\u001b[0m\u001b[0m\n\u001b[0;32m      5\u001b[0m     '''\n\u001b[1;32m----> 6\u001b[1;33m     \u001b[1;32massert\u001b[0m \u001b[0mlen\u001b[0m\u001b[1;33m(\u001b[0m\u001b[0mstr\u001b[0m\u001b[1;33m(\u001b[0m\u001b[0mN\u001b[0m\u001b[1;33m)\u001b[0m\u001b[1;33m)\u001b[0m \u001b[1;33m%\u001b[0m \u001b[1;36m2\u001b[0m \u001b[1;33m==\u001b[0m\u001b[1;36m0\u001b[0m\u001b[1;33m\u001b[0m\u001b[1;33m\u001b[0m\u001b[0m\n\u001b[0m\u001b[0;32m      7\u001b[0m     \u001b[0mlength\u001b[0m\u001b[1;33m=\u001b[0m\u001b[0mlen\u001b[0m\u001b[1;33m(\u001b[0m\u001b[0mstr\u001b[0m\u001b[1;33m(\u001b[0m\u001b[0mN\u001b[0m\u001b[1;33m)\u001b[0m\u001b[1;33m)\u001b[0m\u001b[1;33m/\u001b[0m\u001b[1;36m2\u001b[0m\u001b[1;33m\u001b[0m\u001b[1;33m\u001b[0m\u001b[0m\n\u001b[0;32m      8\u001b[0m     \u001b[0mfront\u001b[0m\u001b[1;33m=\u001b[0m\u001b[0mstr\u001b[0m\u001b[1;33m(\u001b[0m\u001b[0mN\u001b[0m\u001b[1;33m)\u001b[0m\u001b[1;33m[\u001b[0m\u001b[1;33m:\u001b[0m\u001b[0mint\u001b[0m\u001b[1;33m(\u001b[0m\u001b[0mlength\u001b[0m\u001b[1;33m)\u001b[0m\u001b[1;33m]\u001b[0m\u001b[1;33m\u001b[0m\u001b[1;33m\u001b[0m\u001b[0m\n",
      "\u001b[1;31mAssertionError\u001b[0m: "
     ]
    }
   ],
   "source": [
    "solution(12345)"
   ]
  },
  {
   "cell_type": "code",
   "execution_count": 23,
   "metadata": {},
   "outputs": [
    {
     "name": "stdout",
     "output_type": "stream",
     "text": [
      "2021-08-03 17:43:01.269110\n"
     ]
    }
   ],
   "source": [
    "#9분 소요\n",
    "start_time()"
   ]
  },
  {
   "cell_type": "markdown",
   "metadata": {},
   "source": [
    "새로 알게 된 것 & 복습할 것\n",
    "\n",
    "- 인덱싱은 정수로 해야함(나누기 하고 나면 int가 float가 돼서 바꾸어 주어야함)\n"
   ]
  },
  {
   "cell_type": "markdown",
   "metadata": {},
   "source": [
    "### 문자열 재정렬\n"
   ]
  },
  {
   "cell_type": "code",
   "execution_count": 24,
   "metadata": {},
   "outputs": [
    {
     "name": "stdout",
     "output_type": "stream",
     "text": [
      "2021-08-03 17:55:23.727162\n"
     ]
    }
   ],
   "source": [
    "start_time()"
   ]
  },
  {
   "cell_type": "code",
   "execution_count": 26,
   "metadata": {},
   "outputs": [
    {
     "data": {
      "text/plain": [
       "'A'"
      ]
     },
     "execution_count": 26,
     "metadata": {},
     "output_type": "execute_result"
    }
   ],
   "source": [
    "chr(ord('A'))"
   ]
  },
  {
   "cell_type": "code",
   "execution_count": 34,
   "metadata": {},
   "outputs": [],
   "source": [
    "def solution(string: str)->str:\n",
    "    '''\n",
    "    문자열 정렬하고 나서 숫자는 더해주기\n",
    "    '''\n",
    "    num=0\n",
    "    lst=[]\n",
    "    for i in string:\n",
    "        try:\n",
    "            num += int(i)\n",
    "        except:  \n",
    "            lst.append(ord(i))\n",
    "    lst.sort()\n",
    "    lst2=[chr(i) for i in lst]\n",
    "    answer=''.join(lst2)+str(num)\n",
    "    return answer\n"
   ]
  },
  {
   "cell_type": "code",
   "execution_count": 37,
   "metadata": {},
   "outputs": [
    {
     "data": {
      "text/plain": [
       "'ADDIJJJKKLSS20'"
      ]
     },
     "execution_count": 37,
     "metadata": {},
     "output_type": "execute_result"
    }
   ],
   "source": [
    "solution('AJKDLSI412K4JSJ9D')"
   ]
  },
  {
   "cell_type": "code",
   "execution_count": 39,
   "metadata": {},
   "outputs": [
    {
     "name": "stdout",
     "output_type": "stream",
     "text": [
      "2021-08-03 18:02:01.133120\n"
     ]
    }
   ],
   "source": [
    "#6분 소요\n",
    "start_time()"
   ]
  },
  {
   "cell_type": "markdown",
   "metadata": {},
   "source": [
    "새로 알게 된 것 & 복습할 것\n",
    "\n",
    "- sort()는 원래 객체를 변형한다는 것\n"
   ]
  },
  {
   "cell_type": "markdown",
   "metadata": {},
   "source": [
    "### 문자열 압축\n",
    "https://programmers.co.kr/learn/courses/30/lessons/60057\n",
    "- 거의 1시간 10분 풀었는데 못해먹겠다 악!\n"
   ]
  },
  {
   "cell_type": "code",
   "execution_count": 41,
   "metadata": {},
   "outputs": [
    {
     "name": "stdout",
     "output_type": "stream",
     "text": [
      "2021-08-03 18:55:35.122665\n"
     ]
    }
   ],
   "source": [
    "start_time()"
   ]
  },
  {
   "cell_type": "markdown",
   "metadata": {},
   "source": [
    "- range에 step 지정할 수 있단 걸 잊지 말자,,\n",
    "- \"\"으로 빈 str 빈공간 지정해주기\n"
   ]
  },
  {
   "cell_type": "markdown",
   "metadata": {},
   "source": [
    "### 자물쇠와 열쇠\n",
    "https://programmers.co.kr/learn/courses/30/lessons/60059\n",
    "- 크기를 3배 늘린다는 기적의 아이디어가 있음 된다\n"
   ]
  },
  {
   "cell_type": "code",
   "execution_count": null,
   "metadata": {},
   "outputs": [],
   "source": [
    "def solution(key, lock):\n",
    "    '''\n",
    "    - 가능한 경우의 수: 돌리기 , 좌 우 상 하 이동\n",
    "    \n",
    "    '''\n",
    "    M=len(key)\n",
    "    N=len(lock)\n",
    "    lock1=lock[0]\n",
    "    lock2=lock[1]\n",
    "    lock3=lock[2]\n",
    "    for i in range(3):\n",
    "        lock1[i]==key3[2]\n",
    "        \n",
    "        lock1[i]==\n",
    "        \n",
    "        \n",
    "        \n",
    "        answer = True\n",
    "    return answer"
   ]
  },
  {
   "cell_type": "markdown",
   "metadata": {},
   "source": [
    "# 뱀\n",
    "https://www.acmicpc.net/problem/3190\n"
   ]
  },
  {
   "cell_type": "code",
   "execution_count": 4,
   "metadata": {},
   "outputs": [
    {
     "data": {
      "text/plain": [
       "[1, 2]"
      ]
     },
     "execution_count": 4,
     "metadata": {},
     "output_type": "execute_result"
    }
   ],
   "source": [
    "temp=[[1,2],[3,4]]\n",
    "[1,2] in temp\n",
    "temp.pop(temp.index([1,2]))"
   ]
  },
  {
   "cell_type": "code",
   "execution_count": 172,
   "metadata": {},
   "outputs": [],
   "source": [
    "def solution(N: int, K: int, apples: list, L: int, directions: list):\n",
    "    '''\n",
    "    - N : 맵 크기\n",
    "    - K : 사과 개수\n",
    "    - \n",
    "    '''\n",
    "    X = []\n",
    "    Y = []\n",
    "    x1 = 1\n",
    "    X.append(x1)\n",
    "    y1=1\n",
    "    Y.append(y1)\n",
    "    direction=4\n",
    "    sec=0\n",
    "    breaker=False\n",
    "    dict1={}\n",
    "    for i in directions:\n",
    "        dict1[i[0]]=i[1]\n",
    "    while True:     \n",
    "        if direction % 4 == 0:\n",
    "            x1 += 1\n",
    "            X=[x1]+X\n",
    "            Y=[y1]+Y            \n",
    "        if direction % 4 == 1:\n",
    "            y1 += 1\n",
    "            X=[x1]+X\n",
    "            Y=[y1]+Y  \n",
    "        if direction % 4 == 2:\n",
    "            x1 -= 1\n",
    "            X=[x1]+X\n",
    "            Y=[y1]+Y     \n",
    "        if direction % 4 == 3:\n",
    "            y1 -= 1\n",
    "            X=[x1]+X\n",
    "            Y=[y1]+Y   \n",
    "        lst=[]\n",
    "        for i, j in zip(X,Y):\n",
    "            \n",
    "            if [i,j] in lst:\n",
    "                breaker=True\n",
    "                break\n",
    "            else:\n",
    "                lst.append([i,j])\n",
    "        if breaker == True:\n",
    "            break\n",
    "        if [y1,x1] in apples:\n",
    "            apples.pop(apples.index([y1,x1]))\n",
    "        else:\n",
    "            X.pop()\n",
    "            Y.pop()\n",
    "        if sec in list(dict1.keys()):\n",
    "            if dict1[sec]=='L':\n",
    "                direction -= 1\n",
    "            else:\n",
    "                direction += 1\n",
    "        if len(list(filter(lambda x: x<1,X)))>0 or len(list(filter(lambda x: x>N,X)))>0 or len(list(filter(lambda x: x<1,Y))) > 0  or len(list(filter(lambda x: x>N,Y)))>0:\n",
    "            break\n",
    "\n",
    "        sec+=1\n",
    "        \n",
    "    return sec\n",
    "    "
   ]
  },
  {
   "cell_type": "code",
   "execution_count": 173,
   "metadata": {},
   "outputs": [
    {
     "data": {
      "text/plain": [
       "9"
      ]
     },
     "execution_count": 173,
     "metadata": {},
     "output_type": "execute_result"
    }
   ],
   "source": [
    "solution(N=6,K=3,apples=[[3,4],[2,5],[5,3]],L=3,directions=[[3,'D'],[15,'L'],[17,'D']])"
   ]
  },
  {
   "cell_type": "code",
   "execution_count": 174,
   "metadata": {},
   "outputs": [
    {
     "data": {
      "text/plain": [
       "22"
      ]
     },
     "execution_count": 174,
     "metadata": {},
     "output_type": "execute_result"
    }
   ],
   "source": [
    "solution(N=10,K=4,apples=[[1,2],[1,3],[1,4],[1,5]],L=4,directions=[[8,'D'],[10,'D'],[11,'D'],[13,'L']])"
   ]
  },
  {
   "cell_type": "code",
   "execution_count": 175,
   "metadata": {},
   "outputs": [
    {
     "data": {
      "text/plain": [
       "13"
      ]
     },
     "execution_count": 175,
     "metadata": {},
     "output_type": "execute_result"
    }
   ],
   "source": [
    "solution(N=10,K=5,apples=[[1,5],[1,3],[1,2],[1,6],[1,7]],L=4,directions=[[8,'D'],[10,'D'],[11,'D'],[13,'L']])"
   ]
  },
  {
   "cell_type": "markdown",
   "metadata": {},
   "source": [
    "거의 1시간 반 풀었음...\n",
    "\n",
    "\n",
    "알게된 것 & 복습할 것\n",
    "\n",
    " - apple좌표를 x,y반대로 해서 시간 개많이 잡아 먹었음\n",
    " - append하고나서 리스트에 있는지 체크하는 만행\n",
    " - 방향을 숫자로 주는 아이디어\n",
    " - zip함수를 쓸 수 있다\n",
    " - 아직도 왜 2번째꺼가 22가 나오는지는 모르겠다\n",
    " "
   ]
  },
  {
   "cell_type": "markdown",
   "metadata": {},
   "source": [
    "### 기둥과 보 설치\n",
    "https://programmers.co.kr/learn/courses/30/lessons/60061\n"
   ]
  },
  {
   "cell_type": "markdown",
   "metadata": {},
   "source": [
    "- 그지 같네( 1시간 30분 이상 봐도 디버깅 실패)\n",
    "- 리스트 전체를 이터레이티브하게 돌 수 있음을 기억하자\n",
    "- a,b,c,d=[1,2,3,4] 이렇게 할당할 수도 있다는 점!(언팩)\n",
    "- 코드를 짜기전에 풀이법부터 딱 생각해놔라\n"
   ]
  },
  {
   "cell_type": "code",
   "execution_count": 185,
   "metadata": {},
   "outputs": [],
   "source": [
    "build_frame=[[1,0,0,1],[1,1,1,1],[2,1,0,1],[2,2,1,1],[5,0,0,1],[5,1,0,1],[4,2,1,1],[3,2,1,1]]"
   ]
  },
  {
   "cell_type": "code",
   "execution_count": 206,
   "metadata": {},
   "outputs": [],
   "source": [
    "def check(results):\n",
    "    '''\n",
    "    조건 맞는지 확인하는 함수\n",
    "    '''\n",
    "    dungs=[i for i in results if i[2]==0]\n",
    "    bos=[i for i in results if i[2]==1]\n",
    "    dung_ends=[[i[0],i[1]+1] for i in dungs]\n",
    "    dung_starts=[[i[0],i[1]] for i in dungs]\n",
    "    bo_starts= [[i[0],i[1]] for i in bos]\n",
    "    bo_ends= [[i[0]+1,i[1]] for i in bos]\n",
    "    dung_ok=False\n",
    "    for i in dung_starts:\n",
    "        if i[1]==0:\n",
    "            dung_ok=True\n",
    "        elif i in dung_ends:\n",
    "            dung_ok=True\n",
    "        elif i in bo_starts:\n",
    "            dung_ok=True\n",
    "        elif i in bo_ends:\n",
    "            dung_ok=True\n",
    "        else:\n",
    "            dung_ok=False\n",
    "            break\n",
    "    bo_ok=False\n",
    "    for i,j in zip(bo_starts,bo_ends):\n",
    "        if i in dung_ends or j in dung_ends:\n",
    "            bo_ok=True\n",
    "        elif i in bo_ends and j in bo_starts:\n",
    "            bo_ok=True\n",
    "        else:\n",
    "            bo_ok=False\n",
    "            break\n",
    "    if dung_ok==True and bo_ok==True:\n",
    "        final=True\n",
    "    else:\n",
    "        final=False\n",
    "    return final\n",
    "\n",
    "def solution(n, build_frame):\n",
    "    '''\n",
    "    - 기둥 : 바닥 위 or 보의 \"끝\" 위 or 다른 기둥 위\n",
    "    - 보: \"끝\" 부분이 기둥 위 or 양쪽 끝 모두 다른 보와\n",
    "    '''\n",
    "    #print(check([[0,0,1]]))\n",
    "    bo_ends=[]\n",
    "    dung_ends=[]\n",
    "    bo_starts=[]\n",
    "    result=[]\n",
    "    for i in range(len(build_frame)):\n",
    "        if build_frame[i][2]==0: # 기둥\n",
    "            #설치\n",
    "            if build_frame[i][3]==1:    \n",
    "                if build_frame[i][1]==0: #바닥 위 \n",
    "                    result.append(build_frame[i][0:2]+[0])\n",
    "                    dung_ends.append([build_frame[i][0],build_frame[i][1]+1])\n",
    "                if build_frame[i][0:2] in bo_ends: #보의 끝\n",
    "                    result.append(build_frame[i][0:2]+[0])\n",
    "                    dung_ends.append([build_frame[i][0],build_frame[i][1]+1])\n",
    "                    #bo_ends.pop(bo_ends.index(build_frame[i][0:2]))\n",
    "                if build_frame[i][0:2] in dung_ends: #기둥의 끝\n",
    "                    dung_ends.append([build_frame[i][0],build_frame[i][1]+1])\n",
    "                    result.append(build_frame[i][0:2]+[0])\n",
    "                    #dung_ends.pop(dung_ends.index(build_frame[i][0:2]))\n",
    "           #삭제 #뺐다가 아니면 다시 넣기\n",
    "            else:#build_frame[0][3]==0\n",
    "                temp=result.pop(result.index(build_frame[i][0:3]))\n",
    "                if check(result)==True:\n",
    "                    pass\n",
    "                else:\n",
    "                    result.append(temp)\n",
    "        else:         #build_frame[0][2]==1: # 보\n",
    "            #설치\n",
    "            if build_frame[i][3]==1:\n",
    "                #기둥 위\n",
    "                if build_frame[i][0:2] in dung_ends:\n",
    "                    result.append(build_frame[i][0:2]+[1])\n",
    "                    bo_starts.append(build_frame[i][0:2] )\n",
    "                    bo_ends.append([build_frame[i][0]+1,build_frame[i][1]])\n",
    "                    continue\n",
    "                #양 보 끝\n",
    "                if build_frame[i][0:2] in bo_starts and [build_frame[i][0]+1,build_frame[i][1]] in bo_ends:\n",
    "                    result.append(build_frame[i][0:2]+[1])\n",
    "            #삭제\n",
    "            else:\n",
    "                print(dung_ends)\n",
    "                temp=result.pop(result.index(build_frame[i][0:3]))\n",
    "                if check(result)==True:\n",
    "                    pass\n",
    "                else:\n",
    "                    result.append(temp)  \n",
    "    answer=result.copy()\n",
    "    return answer\n"
   ]
  },
  {
   "cell_type": "code",
   "execution_count": 207,
   "metadata": {},
   "outputs": [
    {
     "data": {
      "text/plain": [
       "False"
      ]
     },
     "execution_count": 207,
     "metadata": {},
     "output_type": "execute_result"
    }
   ],
   "source": [
    "check([[1,0,0],[2,1,0],[2,2,1],[3,2,1],[4,2,1],[5,0,0],[5,1,0]])"
   ]
  },
  {
   "cell_type": "code",
   "execution_count": 208,
   "metadata": {
    "scrolled": true
   },
   "outputs": [
    {
     "name": "stdout",
     "output_type": "stream",
     "text": [
      "[[0, 1], [2, 1], [4, 1]]\n"
     ]
    },
    {
     "ename": "ValueError",
     "evalue": "[1, 1, 1] is not in list",
     "output_type": "error",
     "traceback": [
      "\u001b[1;31m---------------------------------------------------------------------------\u001b[0m",
      "\u001b[1;31mValueError\u001b[0m                                Traceback (most recent call last)",
      "\u001b[1;32m<ipython-input-208-b3d3a641726e>\u001b[0m in \u001b[0;36m<module>\u001b[1;34m\u001b[0m\n\u001b[1;32m----> 1\u001b[1;33m \u001b[0msolution\u001b[0m\u001b[1;33m(\u001b[0m\u001b[1;36m5\u001b[0m\u001b[1;33m,\u001b[0m\u001b[0mbuild_frame\u001b[0m\u001b[1;33m)\u001b[0m\u001b[1;33m\u001b[0m\u001b[1;33m\u001b[0m\u001b[0m\n\u001b[0m",
      "\u001b[1;32m<ipython-input-206-15aea17470db>\u001b[0m in \u001b[0;36msolution\u001b[1;34m(n, build_frame)\u001b[0m\n\u001b[0;32m     84\u001b[0m             \u001b[1;32melse\u001b[0m\u001b[1;33m:\u001b[0m\u001b[1;33m\u001b[0m\u001b[1;33m\u001b[0m\u001b[0m\n\u001b[0;32m     85\u001b[0m                 \u001b[0mprint\u001b[0m\u001b[1;33m(\u001b[0m\u001b[0mdung_ends\u001b[0m\u001b[1;33m)\u001b[0m\u001b[1;33m\u001b[0m\u001b[1;33m\u001b[0m\u001b[0m\n\u001b[1;32m---> 86\u001b[1;33m                 \u001b[0mtemp\u001b[0m\u001b[1;33m=\u001b[0m\u001b[0mresult\u001b[0m\u001b[1;33m.\u001b[0m\u001b[0mpop\u001b[0m\u001b[1;33m(\u001b[0m\u001b[0mresult\u001b[0m\u001b[1;33m.\u001b[0m\u001b[0mindex\u001b[0m\u001b[1;33m(\u001b[0m\u001b[0mbuild_frame\u001b[0m\u001b[1;33m[\u001b[0m\u001b[0mi\u001b[0m\u001b[1;33m]\u001b[0m\u001b[1;33m[\u001b[0m\u001b[1;36m0\u001b[0m\u001b[1;33m:\u001b[0m\u001b[1;36m3\u001b[0m\u001b[1;33m]\u001b[0m\u001b[1;33m)\u001b[0m\u001b[1;33m)\u001b[0m\u001b[1;33m\u001b[0m\u001b[1;33m\u001b[0m\u001b[0m\n\u001b[0m\u001b[0;32m     87\u001b[0m                 \u001b[1;32mif\u001b[0m \u001b[0mcheck\u001b[0m\u001b[1;33m(\u001b[0m\u001b[0mresult\u001b[0m\u001b[1;33m)\u001b[0m\u001b[1;33m==\u001b[0m\u001b[1;32mTrue\u001b[0m\u001b[1;33m:\u001b[0m\u001b[1;33m\u001b[0m\u001b[1;33m\u001b[0m\u001b[0m\n\u001b[0;32m     88\u001b[0m                     \u001b[1;32mpass\u001b[0m\u001b[1;33m\u001b[0m\u001b[1;33m\u001b[0m\u001b[0m\n",
      "\u001b[1;31mValueError\u001b[0m: [1, 1, 1] is not in list"
     ]
    }
   ],
   "source": [
    "solution(5,build_frame)"
   ]
  },
  {
   "cell_type": "code",
   "execution_count": 205,
   "metadata": {},
   "outputs": [],
   "source": [
    "build_frame=[[0,0,0,1],[2,0,0,1],[4,0,0,1],[0,1,1,1],[1,1,1,1],[2,1,1,1],[3,1,1,1],[2,0,0,0],[1,1,1,0],[2,2,0,1]]"
   ]
  },
  {
   "cell_type": "code",
   "execution_count": 198,
   "metadata": {},
   "outputs": [
    {
     "name": "stdout",
     "output_type": "stream",
     "text": [
      "8\n"
     ]
    },
    {
     "ename": "ValueError",
     "evalue": "[1, 1, 1] is not in list",
     "output_type": "error",
     "traceback": [
      "\u001b[1;31m---------------------------------------------------------------------------\u001b[0m",
      "\u001b[1;31mValueError\u001b[0m                                Traceback (most recent call last)",
      "\u001b[1;32m<ipython-input-198-b3d3a641726e>\u001b[0m in \u001b[0;36m<module>\u001b[1;34m\u001b[0m\n\u001b[1;32m----> 1\u001b[1;33m \u001b[0msolution\u001b[0m\u001b[1;33m(\u001b[0m\u001b[1;36m5\u001b[0m\u001b[1;33m,\u001b[0m\u001b[0mbuild_frame\u001b[0m\u001b[1;33m)\u001b[0m\u001b[1;33m\u001b[0m\u001b[1;33m\u001b[0m\u001b[0m\n\u001b[0m",
      "\u001b[1;32m<ipython-input-194-cbe170e56da1>\u001b[0m in \u001b[0;36msolution\u001b[1;34m(n, build_frame)\u001b[0m\n\u001b[0;32m     82\u001b[0m             \u001b[1;32melse\u001b[0m\u001b[1;33m:\u001b[0m\u001b[1;33m\u001b[0m\u001b[1;33m\u001b[0m\u001b[0m\n\u001b[0;32m     83\u001b[0m                 \u001b[0mprint\u001b[0m\u001b[1;33m(\u001b[0m\u001b[0mi\u001b[0m\u001b[1;33m)\u001b[0m\u001b[1;33m\u001b[0m\u001b[1;33m\u001b[0m\u001b[0m\n\u001b[1;32m---> 84\u001b[1;33m                 \u001b[0mtemp\u001b[0m\u001b[1;33m=\u001b[0m\u001b[0mresult\u001b[0m\u001b[1;33m.\u001b[0m\u001b[0mpop\u001b[0m\u001b[1;33m(\u001b[0m\u001b[0mresult\u001b[0m\u001b[1;33m.\u001b[0m\u001b[0mindex\u001b[0m\u001b[1;33m(\u001b[0m\u001b[0mbuild_frame\u001b[0m\u001b[1;33m[\u001b[0m\u001b[0mi\u001b[0m\u001b[1;33m]\u001b[0m\u001b[1;33m[\u001b[0m\u001b[1;36m0\u001b[0m\u001b[1;33m:\u001b[0m\u001b[1;36m3\u001b[0m\u001b[1;33m]\u001b[0m\u001b[1;33m)\u001b[0m\u001b[1;33m)\u001b[0m\u001b[1;33m\u001b[0m\u001b[1;33m\u001b[0m\u001b[0m\n\u001b[0m\u001b[0;32m     85\u001b[0m                 \u001b[1;32mif\u001b[0m \u001b[0mcheck\u001b[0m\u001b[1;33m(\u001b[0m\u001b[0mresult\u001b[0m\u001b[1;33m)\u001b[0m\u001b[1;33m==\u001b[0m\u001b[1;32mTrue\u001b[0m\u001b[1;33m:\u001b[0m\u001b[1;33m\u001b[0m\u001b[1;33m\u001b[0m\u001b[0m\n\u001b[0;32m     86\u001b[0m                     \u001b[1;32mpass\u001b[0m\u001b[1;33m\u001b[0m\u001b[1;33m\u001b[0m\u001b[0m\n",
      "\u001b[1;31mValueError\u001b[0m: [1, 1, 1] is not in list"
     ]
    }
   ],
   "source": [
    "solution(5,build_frame)"
   ]
  },
  {
   "cell_type": "markdown",
   "metadata": {},
   "source": [
    "### 치킨 배달"
   ]
  },
  {
   "cell_type": "code",
   "execution_count": 237,
   "metadata": {},
   "outputs": [],
   "source": [
    "def solution(N,M,inputs):\n",
    "    '''\n",
    "    - N: 도시 크기\n",
    "    - M: 선택할 개수\n",
    "    - inputs: 도시 형태\n",
    "    \n",
    "    '''\n",
    "    \n",
    "    home_lst=[]\n",
    "    c_lst=[]\n",
    "    y1=1\n",
    "    #집 및 치킨집 리스트업\n",
    "    for i in inputs:\n",
    "        home_idx=[j+1 for j in range(len(i)) if i[j]==1]\n",
    "        c_idx = [j+1 for j in range(len(i)) if i[j]==2]\n",
    "        y=y1\n",
    "        for k in home_idx:\n",
    "            home_lst.append([k,y1])\n",
    "        for k in c_idx:\n",
    "            c_lst.append([k,y1])\n",
    "        y1+=1\n",
    "    # M개 치킨집 고르기\n",
    "    iterer=list(itertools.combinations(c_lst,M))\n",
    "    #도시 거리 모음\n",
    "    city_dist_list=[]\n",
    "    for coord in iterer:\n",
    "        #특정 경우의 수에서\n",
    "        #최소 거리들 모음\n",
    "        dists=[]\n",
    "        \n",
    "        for x,y in home_lst:\n",
    "            dist=[]\n",
    "            for cx,cy in coord:\n",
    "                dist.append(abs(cx-x)+abs(cy-y))\n",
    "            #각 집마다 가장 가까운 치킨집과의 거리\n",
    "            min_dist=min(dist)    \n",
    "            dists.append(min_dist)\n",
    "        city_dist=sum(dists)        \n",
    "        city_dist_list.append(city_dist)\n",
    "    answer=min(city_dist_list)\n",
    "    return answer"
   ]
  },
  {
   "cell_type": "code",
   "execution_count": 238,
   "metadata": {},
   "outputs": [
    {
     "data": {
      "text/plain": [
       "5"
      ]
     },
     "execution_count": 238,
     "metadata": {},
     "output_type": "execute_result"
    }
   ],
   "source": [
    "solution(N=5,M=3,inputs=[[0,0,1,0,0],[0,0,2,0,1],[0,1,2,0,0],[0,0,1,0,0],[0,0,0,0,2]])"
   ]
  },
  {
   "cell_type": "code",
   "execution_count": 239,
   "metadata": {},
   "outputs": [
    {
     "data": {
      "text/plain": [
       "10"
      ]
     },
     "execution_count": 239,
     "metadata": {},
     "output_type": "execute_result"
    }
   ],
   "source": [
    "solution(N=5,M=2,inputs=[[0,2,0,1,0],[1,0,1,0,0],[0,0,0,0,0],[2,0,0,1,1],[2,2,0,1,2]])"
   ]
  },
  {
   "cell_type": "code",
   "execution_count": 240,
   "metadata": {},
   "outputs": [
    {
     "data": {
      "text/plain": [
       "11"
      ]
     },
     "execution_count": 240,
     "metadata": {},
     "output_type": "execute_result"
    }
   ],
   "source": [
    "solution(N=5,M=1,inputs=[[1,2,0,0,0],[1,2,0,0,0],[1,2,0,0,0],[1,2,0,0,0],[1,2,0,0,0]])"
   ]
  },
  {
   "cell_type": "code",
   "execution_count": 241,
   "metadata": {},
   "outputs": [
    {
     "data": {
      "text/plain": [
       "32"
      ]
     },
     "execution_count": 241,
     "metadata": {},
     "output_type": "execute_result"
    }
   ],
   "source": [
    "solution(N=5,M=1,inputs=[[1,2,0,2,1],[1,2,0,2,1],[1,2,0,2,1],[1,2,0,2,1],[1,2,0,2,1]])"
   ]
  },
  {
   "cell_type": "markdown",
   "metadata": {},
   "source": [
    "알게된 것 & 복습할 것\n",
    "\n",
    "- 변수명은 비슷하게 만들지 말자 아무리 귀찮아도\n",
    "- itertools.combinations, itertools.permutations기억\n",
    "- range(N)은 N-1까지임을 잊지 말자\n",
    "- 40분 소요"
   ]
  },
  {
   "cell_type": "code",
   "execution_count": null,
   "metadata": {},
   "outputs": [],
   "source": []
  }
 ],
 "metadata": {
  "kernelspec": {
   "display_name": "Python 3",
   "language": "python",
   "name": "python3"
  },
  "language_info": {
   "codemirror_mode": {
    "name": "ipython",
    "version": 3
   },
   "file_extension": ".py",
   "mimetype": "text/x-python",
   "name": "python",
   "nbconvert_exporter": "python",
   "pygments_lexer": "ipython3",
   "version": "3.7.6"
  }
 },
 "nbformat": 4,
 "nbformat_minor": 4
}
