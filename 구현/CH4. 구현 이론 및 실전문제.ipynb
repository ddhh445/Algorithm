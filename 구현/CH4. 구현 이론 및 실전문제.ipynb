{
 "cells": [
  {
   "cell_type": "markdown",
   "metadata": {},
   "source": [
    "# CH4. 구현\n",
    "- 구현이랑 머릿속에 알고리즘을 소스코드로 바꾸는 과정 : ? 이게 뭔\n",
    "- 따로 배울 챕터는 아니긴 한데 자주 나온다고 함.\n",
    "- \"풀이를 떠올리는건 쉬운데 소스코드로 옮기기 어려운 것들\"\n",
    "- 사소한 조건 설정이 까다로움\n",
    "- itertools같은 표준 라이브러리 사용도 알아야\n",
    "- 완전 탐색: 모든 경우의 수를 주저 없이 다 계싼\n",
    "- 시뮬레이션: 제시한 알고리즘을 한 단계씩 차례대로 직접 수행\n",
    "- 리스트 길이 1000만이 약 40메가바이트임\n"
   ]
  },
  {
   "cell_type": "markdown",
   "metadata": {},
   "source": [
    "### 예제 4-1 상하좌우\n"
   ]
  },
  {
   "cell_type": "code",
   "execution_count": 1,
   "metadata": {},
   "outputs": [],
   "source": [
    "import datetime\n",
    "def start_time():\n",
    "    '''\n",
    "    현재 시간 출력해주는 함수\n",
    "    '''\n",
    "    print(datetime.datetime.now())"
   ]
  },
  {
   "cell_type": "code",
   "execution_count": 2,
   "metadata": {},
   "outputs": [
    {
     "name": "stdout",
     "output_type": "stream",
     "text": [
      "2021-08-03 14:20:13.207633\n"
     ]
    }
   ],
   "source": [
    "start_time()"
   ]
  },
  {
   "cell_type": "code",
   "execution_count": 14,
   "metadata": {},
   "outputs": [],
   "source": [
    "def solution(inputs: str, N: int)->list:\n",
    "    '''\n",
    "    inputs예시: 'RRRUDD'\n",
    "    N: 공간의 크기\n",
    "    출력 : 길이 2인 값\n",
    "    '''\n",
    "    L_inputs=[i for i in inputs if i =='R' or i=='L']\n",
    "    U_inputs=[i for i in inputs if i =='U' or i=='D']\n",
    "    cx=1 #current x\n",
    "    cy=1\n",
    "    for i in L_inputs:\n",
    "        if i=='R':\n",
    "            if cy==N:\n",
    "                continue\n",
    "            else:\n",
    "                cy += 1\n",
    "        if i =='L':\n",
    "            if cy==1:\n",
    "                continue\n",
    "            else:\n",
    "                cy -= 1\n",
    "                \n",
    "    for i in U_inputs:\n",
    "        if i=='U':\n",
    "            if cx==1:\n",
    "                continue\n",
    "            else:\n",
    "                cx -= 1\n",
    "        if i =='D':\n",
    "            if cx==N:\n",
    "                continue\n",
    "            else:\n",
    "                cx += 1\n",
    "            \n",
    "    \n",
    "    answer=[cx,cy]\n",
    "    assert len(answer)==2\n",
    "    return answer"
   ]
  },
  {
   "cell_type": "code",
   "execution_count": 15,
   "metadata": {},
   "outputs": [
    {
     "data": {
      "text/plain": [
       "[3, 4]"
      ]
     },
     "execution_count": 15,
     "metadata": {},
     "output_type": "execute_result"
    }
   ],
   "source": [
    "#20분 소요\n",
    "solution('RRRUDD',5)"
   ]
  },
  {
   "cell_type": "code",
   "execution_count": 16,
   "metadata": {},
   "outputs": [
    {
     "name": "stdout",
     "output_type": "stream",
     "text": [
      "2021-08-03 14:40:42.589937\n"
     ]
    }
   ],
   "source": [
    "start_time()"
   ]
  },
  {
   "cell_type": "markdown",
   "metadata": {},
   "source": [
    "알게 된 것 & 복습할 것\n",
    "\n",
    "- continue는 루프 한번 건너뛰는 것,pass는 말그대로 실행할 코드가 없단 뜻"
   ]
  },
  {
   "cell_type": "markdown",
   "metadata": {},
   "source": [
    "### 예제 4-2  시각\n",
    "- 정수 N이 입력되면 00시 00분 00초부터 N시 59분 59초까지 3이 포함되는 모든 경우의수 구하기"
   ]
  },
  {
   "cell_type": "code",
   "execution_count": 18,
   "metadata": {},
   "outputs": [
    {
     "name": "stdout",
     "output_type": "stream",
     "text": [
      "2021-08-03 14:48:51.702099\n"
     ]
    }
   ],
   "source": [
    "start_time()"
   ]
  },
  {
   "cell_type": "code",
   "execution_count": 38,
   "metadata": {},
   "outputs": [
    {
     "data": {
      "text/plain": [
       "0"
      ]
     },
     "execution_count": 38,
     "metadata": {},
     "output_type": "execute_result"
    }
   ],
   "source": [
    "import re\n",
    "p=re.compile('[3]+')\n",
    "len(p.findall('15'))"
   ]
  },
  {
   "cell_type": "code",
   "execution_count": 57,
   "metadata": {},
   "outputs": [],
   "source": [
    "def solution(N:int)->int:\n",
    "    '''\n",
    "    N: 시각\n",
    "    output: 3이 포함되는 시간의 개수\n",
    "    '''\n",
    "    import re\n",
    "    sec=0\n",
    "    minute=0\n",
    "    hour=0\n",
    "    count=0\n",
    "    p=re.compile('[3]+')\n",
    "    while True:\n",
    "        \n",
    "        time_str=str(hour)+str(minute)+str(sec)\n",
    "        if len(p.findall(time_str))>0:\n",
    "            count += 1\n",
    "        sec +=1\n",
    "        if sec==60:\n",
    "            minute += 1\n",
    "            sec=0\n",
    "        if minute==60:\n",
    "            hour += 1\n",
    "            minute=0\n",
    "        if time_str==str(N)+'5959' :\n",
    "            break\n",
    "        \n",
    "    return count"
   ]
  },
  {
   "cell_type": "code",
   "execution_count": 58,
   "metadata": {},
   "outputs": [
    {
     "data": {
      "text/plain": [
       "11475"
      ]
     },
     "execution_count": 58,
     "metadata": {},
     "output_type": "execute_result"
    }
   ],
   "source": [
    "solution(5)"
   ]
  },
  {
   "cell_type": "code",
   "execution_count": 60,
   "metadata": {},
   "outputs": [
    {
     "name": "stdout",
     "output_type": "stream",
     "text": [
      "2021-08-03 15:14:02.438283\n"
     ]
    }
   ],
   "source": [
    "#무려 25분 소요 ㅡ ㅅ ㅡ\n",
    "\n",
    "start_time()"
   ]
  },
  {
   "cell_type": "markdown",
   "metadata": {},
   "source": [
    "알게된 것 & 복습할 것\n",
    "\n",
    "- if x in string 같이 in 구문을 잊지말것\n",
    "- import re\n",
    "-  p=re.complie(regex)\n",
    "-  p.findall('어쩌구')\n",
    "- n중 반복문이더라도 연산량이 크지 않을 것 같다면 사용해도 좋다"
   ]
  },
  {
   "cell_type": "markdown",
   "metadata": {},
   "source": [
    "## 실전문제"
   ]
  },
  {
   "cell_type": "markdown",
   "metadata": {},
   "source": [
    "### 왕실의 나이트\n"
   ]
  },
  {
   "cell_type": "code",
   "execution_count": 66,
   "metadata": {},
   "outputs": [
    {
     "name": "stdout",
     "output_type": "stream",
     "text": [
      "2021-08-03 15:35:50.488377\n"
     ]
    }
   ],
   "source": [
    "start_time()"
   ]
  },
  {
   "cell_type": "code",
   "execution_count": 82,
   "metadata": {},
   "outputs": [],
   "source": [
    "def solution(coord : str)->int:\n",
    "    '''\n",
    "    coord 예시 : c2\n",
    "    output: 경우의수\n",
    "    '''\n",
    "    count=0\n",
    "    cx=ord(coord[0])-96\n",
    "    cy=int(coord[1])\n",
    "    #위\n",
    "    if cy-2>0:\n",
    "        if cx+1<9:\n",
    "            count+=1\n",
    "        if cx-1>0:\n",
    "            count+=1\n",
    "    #아래\n",
    "    if cy+2<9:\n",
    "        if cx+1<9:\n",
    "            count+=1\n",
    "        if cx-1>0:\n",
    "            count+=1\n",
    "    #오른\n",
    "    if cx+2<9:\n",
    "        if cy+1<9:\n",
    "            count+=1\n",
    "        if cy-1>0:\n",
    "            count+=1\n",
    "    #왼\n",
    "    if cx-2>0:\n",
    "        if cy+1<9:\n",
    "            count+=1\n",
    "        if cy-1>0:\n",
    "            count+=1\n",
    "    return count"
   ]
  },
  {
   "cell_type": "code",
   "execution_count": 83,
   "metadata": {},
   "outputs": [
    {
     "data": {
      "text/plain": [
       "2"
      ]
     },
     "execution_count": 83,
     "metadata": {},
     "output_type": "execute_result"
    }
   ],
   "source": [
    "solution('a1')"
   ]
  },
  {
   "cell_type": "code",
   "execution_count": 86,
   "metadata": {
    "scrolled": true
   },
   "outputs": [
    {
     "data": {
      "text/plain": [
       "6"
      ]
     },
     "execution_count": 86,
     "metadata": {},
     "output_type": "execute_result"
    }
   ],
   "source": [
    "solution('c2')"
   ]
  },
  {
   "cell_type": "code",
   "execution_count": 88,
   "metadata": {},
   "outputs": [
    {
     "data": {
      "text/plain": [
       "8"
      ]
     },
     "execution_count": 88,
     "metadata": {},
     "output_type": "execute_result"
    }
   ],
   "source": [
    "solution('d3')"
   ]
  },
  {
   "cell_type": "code",
   "execution_count": null,
   "metadata": {},
   "outputs": [],
   "source": [
    "#12분 소요\n",
    "start_time()"
   ]
  },
  {
   "cell_type": "markdown",
   "metadata": {},
   "source": [
    "알게된 것 & 복습할 것\n",
    "\n",
    "- ord(str)으로 문자열을 숫자로 바꿀 수 있다!\n",
    "- chr(int)로 숫자를 문자열로 바꿀 수 있다.\n"
   ]
  },
  {
   "cell_type": "markdown",
   "metadata": {},
   "source": [
    "### 게임 개발"
   ]
  },
  {
   "cell_type": "markdown",
   "metadata": {},
   "source": [
    "#조건 정리\n",
    "1. A는 아래로 얼마나, B는 오른쪽으로 얼마나\n",
    "2. 네 방향 모두 가본 칸 or 바다로 되어있는 칸이면 바라보는 방향 유지\n",
    "3. 뒤 방향이 바다라 뒤로 못가면 움직임을 멈춘다.\n"
   ]
  },
  {
   "cell_type": "code",
   "execution_count": null,
   "metadata": {},
   "outputs": [],
   "source": []
  }
 ],
 "metadata": {
  "kernelspec": {
   "display_name": "Python 3",
   "language": "python",
   "name": "python3"
  },
  "language_info": {
   "codemirror_mode": {
    "name": "ipython",
    "version": 3
   },
   "file_extension": ".py",
   "mimetype": "text/x-python",
   "name": "python",
   "nbconvert_exporter": "python",
   "pygments_lexer": "ipython3",
   "version": "3.7.6"
  }
 },
 "nbformat": 4,
 "nbformat_minor": 4
}
